{
  "cells": [
    {
      "cell_type": "raw",
      "metadata": {},
      "source": [
        "---\n",
        "title: \"Week Jun 11 - Jun 17\"\n",
        "execute:\n",
        "  eval: false\n",
        "---"
      ],
      "id": "3b429a38"
    },
    {
      "cell_type": "markdown",
      "metadata": {},
      "source": [
        "## Background\n",
        "- Phylogenetic trees\n",
        "  * Depict the lines of evolutionary descent of different species or genes from a common ancestor\n",
        "- Orthlogs and Paralogs\n",
        "  * Orthologs are homologous genes in different species that diverged from a single ancestral gene after a speciation event\n",
        "  * Paralogs are homologous genes that originate from the duplication of an ancestral gene\n",
        "- Newick Format\n",
        "  * A way to encode phylogenetic trees\n",
        "  * An example is \"(A, (B, C));\", where A is the root and B and C are the two children.\n",
        "\n",
        "## Methods\n",
        "- Generate tree with dendropy\n",
        "- Visualize tree to confirm structure\n",
        "- Start at leaves a keep track of the genes we've come across and the species we've come across as we traverse up the tree by storing them in sets.\n",
        "- Also label relationships (orthologous or paralogous) as you compare children\n",
        "  * If there is no shared taxons between the sets of the children, then we assume there is speciation event so we label paralogous\n",
        "  * If there is no shared genes between the sets of the children, then we assume there is a duplication event so we label paralogous\n",
        "  * No current handle for if both are true (see discussion below)\n",
        "  * If neither are true, no changes occured (we shouldn't see this, that would be a node splitting into two exact children (e.g. (man-a, man-a))).\n",
        "\n",
        "## Results\n",
        "\n",
        "![An example tree with a matrix of relationships between taxons.](./figures/Week1LabelingResult.PNG){#week1-res}\n",
        "s\n",
        "The separator between the taxon and the gene ID does not have to be a dash anymore. The algorithm works with any character except for the restricted ones.\n",
        "\n",
        "Polytomy examples\n",
        "1. Only speciation\n",
        "2. Only duplication\n",
        "3. Mix of both (Ambiguous)\n",
        "  * When the information about the order of the speciation and duplication is not clear, the current solution is to label “ambiguous” for the genes in the polytomies.\n",
        "\n",
        "Clear understanding of what we should label as in-paralogs or out-paralogs\n",
        "  *  A pair of genes can be in-paralogs or out-paralogs relative to different speciation events in the phylogenetic tree. An simple strategy we came up with (Renee advised) is to track back the relationship to the most recent speciation event.\n",
        "  * The first column in the file will be the other gene names, the second column will be “orthrolog” or “paralog”, and the third column provides additional information such as the sub-category “in-paralog”, “out-paralog”, or “ambiguous”.\n",
        "\n",
        "Output only the relationships between a specified gene and all other genes\n",
        "  * Include the gene when running from the command line\n",
        "\n",
        "\n",
        "Questions:\n",
        "1. starting from sequences —> multiple sequence alignment —> phylogenetic tree inference\n",
        "\n",
        "## Discussion\n",
        "While working through a simple way to label the tree, we follow certain assumptions that simplify the process. We need to know what kind of cases we are working with and what a given tree would realistically look like.\n",
        "\n",
        "The above labelling only works for trees that always have a duplication or speciation event and experience no gene loss. Further, we assume that each of these events lead to unique taxons/gene ids. Our question for this is whether a speciation (or duplication) event can lead to a species (or geneid) we've seen before. For example, the tree below:\n",
        "\n",
        "![A tree with two speciations, resulting in two zebra species](./figures/RepeatSpecExample.PNG){#repeat-spec}\n",
        "\n",
        "Where we have the first speciation event split into the \"zebra-a\" and \"horse-a\" branches and then the horse branch splits into \"horse-a\" and \"zebra-a\". (The current assumption is that this is not possible).\n",
        "\n",
        "Another case we need more context to cover is whether we can see a node with children that differ in both the species and geneid such as,\n",
        "\n",
        "![A tree with gene loss, making the paralogous/orthologous relationship unclear.](./figures/AmbigousExample.PNG){#ambig-ex}\n",
        "\n",
        "Without more context (either from possible extra parameters or comparison to other trees), we cannot confidently label the taxons as orthologs or paralogs. In the two simplest cases, the above tree could have resulted from duplication then speciation, or vice versa, with there being gene loss of the \"zebra-b\" and \"horse-a\" taxons. Based on which event occured first, the relationship changes.\n",
        "\n",
        "Another point of discussion is inparalogs and outparalogs. Since those relationships are relative to a certain event, is the user specifiying what event to compare the relationships to?\n",
        "\n",
        "As for the tool itself, we'd like to know what customizations might be helpful. One thing we plan on adding is to change what the separator is between the species and gene id. The default right now is \"-\". We also have the display as a matrix, but this may be unsuitable for very large trees. Some ideas are to output a file (text, cvs, etc.). We also store the relationships in a nested dictionary, so it is easy to look up specific relationships in constant time. \n",
        "\n",
        "::: {.content-visible when-format=\"html\"}\n"
      ],
      "id": "09b603f7"
    },
    {
      "cell_type": "code",
      "metadata": {},
      "source": [
        "# | eval: true\n",
        "# | echo: false\n",
        "import session_info\n",
        "session_info.show()"
      ],
      "id": "4bc90f0f",
      "execution_count": null,
      "outputs": []
    },
    {
      "cell_type": "markdown",
      "metadata": {},
      "source": [
        ":::"
      ],
      "id": "b3099e5f"
    }
  ],
  "metadata": {
    "kernelspec": {
      "display_name": "Python 3",
      "language": "python",
      "name": "python3"
    }
  },
  "nbformat": 4,
  "nbformat_minor": 5
}